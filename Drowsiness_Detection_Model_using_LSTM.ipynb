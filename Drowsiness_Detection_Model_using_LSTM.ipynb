{
  "cells": [
    {
      "cell_type": "markdown",
      "metadata": {
        "id": "view-in-github",
        "colab_type": "text"
      },
      "source": [
        "<a href=\"https://colab.research.google.com/github/Akanty/hello-world/blob/main/Drowsiness_Detection_Model_using_LSTM.ipynb\" target=\"_parent\"><img src=\"https://colab.research.google.com/assets/colab-badge.svg\" alt=\"Open In Colab\"/></a>"
      ]
    },
    {
      "cell_type": "code",
      "execution_count": null,
      "metadata": {
        "id": "nOtTGX8wodpE",
        "colab": {
          "base_uri": "https://localhost:8080/"
        },
        "outputId": "c638e12c-9f39-4fdd-e767-bfa8fce535b6"
      },
      "outputs": [
        {
          "output_type": "stream",
          "name": "stdout",
          "text": [
            "Mounted at /content/drive/\n"
          ]
        }
      ],
      "source": [
        "# Connect to google drive\n",
        "\n",
        "from google.colab import drive\n",
        "\n",
        "drive.mount('/content/drive/')"
      ]
    },
    {
      "cell_type": "code",
      "execution_count": null,
      "metadata": {
        "id": "0FDqWlYpshF5"
      },
      "outputs": [],
      "source": [
        "# import zipfile\n",
        "\n",
        "# zip_ref = zipfile.ZipFile(\"/content/drive/MyDrive/Dataset/Training_Evaluation_Dataset/Training Dataset.zip\", 'r')\n",
        "# zip_ref.extractall(\"/content/drive/MyDrive/Dataset/Training_Evaluation_Dataset/training_dataset\")\n",
        "# zip_ref.close()"
      ]
    },
    {
      "cell_type": "code",
      "execution_count": null,
      "metadata": {
        "colab": {
          "base_uri": "https://localhost:8080/"
        },
        "id": "IRSKgSFxs0MN",
        "outputId": "000d4a5f-181e-4507-f853-b759be78d3ce"
      },
      "outputs": [
        {
          "name": "stdout",
          "output_type": "stream",
          "text": [
            "217454\n"
          ]
        }
      ],
      "source": [
        "# This cell should only be excuted if the combined dataset isnt present as it generates it.\n",
        "# Executing without this condition will result in overriding of existing combined dataset. PS: This will not cause any issue\n",
        "\n",
        "from pathlib import Path, PosixPath\n",
        "\n",
        "dataset_path = \"/content/drive/MyDrive/Dataset/Training_Evaluation_Dataset/Training Dataset\"\n",
        "\n",
        "combined = Path(dataset_path + '/combined.csv')\n",
        "\n",
        "if combined.exists(): combined.unlink()\n",
        "\n",
        "# Reads the path file and converts the predictions to list of integers\n",
        "def convert_to_list(path: PosixPath):\n",
        "  text = path.read_text()\n",
        "  return [int(i) for i in text.strip()]\n",
        "\n",
        "frame = []\n",
        "\n",
        "# Get all nonSleepyCondition files and parse their content as a list\n",
        "for child in Path(dataset_path).iterdir():\n",
        "  for sub_child in sorted(child.iterdir()):\n",
        "    row = []\n",
        "    each = sorted(sub_child.glob('*.txt'))[0:4]\n",
        "    # print(each)\n",
        "    row.append([sub_child.parts[-1] for _ in each[-1].read_text()])\n",
        "    for path in each:\n",
        "      row.append(convert_to_list(path))\n",
        "    for i in range(len(row[0])):\n",
        "      frame.append([field[i] for field in row])\n",
        "\n",
        "print(len(frame))"
      ]
    },
    {
      "cell_type": "code",
      "execution_count": null,
      "metadata": {
        "colab": {
          "base_uri": "https://localhost:8080/"
        },
        "id": "G7tdv5nuuwXp",
        "outputId": "2e0a6391-6374-4101-b2a8-c106a0c8b0bd"
      },
      "outputs": [
        {
          "name": "stdout",
          "output_type": "stream",
          "text": [
            "205820\n"
          ]
        }
      ],
      "source": [
        "# This cell should only be excuted if the combined dataset isnt present as it generates it.\n",
        "# Executing without this condition will result in overriding of existing combined dataset. PS: This will not cause any issue\n",
        "\n",
        "from pathlib import Path, PosixPath\n",
        "import itertools\n",
        "\n",
        "dataset_path = \"/content/drive/MyDrive/Dataset/Training_Evaluation_Dataset/Training Dataset\"\n",
        "\n",
        "# Reads the path file and converts the predictions to list of integers\n",
        "def convert_to_list(path: PosixPath):\n",
        "  text = path.read_text()\n",
        "  return [int(i) for i in text.strip()]\n",
        "\n",
        "frame = []\n",
        "\n",
        "# Get all sleepyCombinations files and parse their content as a list\n",
        "for child in Path(dataset_path).iterdir():\n",
        "  for sub_child in sorted(child.iterdir()):\n",
        "    row = []\n",
        "    each = sorted(sub_child.glob('*.txt'))[4:8]\n",
        "    for path in each:\n",
        "      row.append(convert_to_list(path))\n",
        "    for i in range(len(row[0])):\n",
        "      frame.append(list(itertools.chain([str(sub_child).split('/')[-1]], [field[i] for field in row])))\n",
        "\n",
        "print(len(frame))"
      ]
    },
    {
      "cell_type": "code",
      "execution_count": null,
      "metadata": {
        "colab": {
          "base_uri": "https://localhost:8080/"
        },
        "id": "0fEFeG8_vu5J",
        "outputId": "c5a4abf9-3f33-4fe4-d29c-594de0ecfcb5"
      },
      "outputs": [
        {
          "name": "stdout",
          "output_type": "stream",
          "text": [
            "[['glasses' '0' '0' '0' '0']\n",
            " ['glasses' '0' '0' '0' '0']\n",
            " ['glasses' '0' '0' '0' '0']\n",
            " ['glasses' '0' '0' '0' '0']\n",
            " ['glasses' '0' '0' '0' '0']]\n"
          ]
        }
      ],
      "source": [
        "import numpy as np\n",
        "\n",
        "# Convert the frame list to numpy array\n",
        "np_frame = np.array(frame)\n",
        "\n",
        "np_frame.shape\n",
        "\n",
        "print(np_frame[:5])"
      ]
    },
    {
      "cell_type": "code",
      "execution_count": null,
      "metadata": {
        "colab": {
          "base_uri": "https://localhost:8080/",
          "height": 175
        },
        "id": "4vyFu6jOyRjn",
        "outputId": "9c5b11f7-b82f-41cd-a59a-59976d340219"
      },
      "outputs": [
        {
          "data": {
            "text/html": [
              "\n",
              "  <div id=\"df-dd7f3bc9-f995-4d38-ad49-8a171bc1f3be\">\n",
              "    <div class=\"colab-df-container\">\n",
              "      <div>\n",
              "<style scoped>\n",
              "    .dataframe tbody tr th:only-of-type {\n",
              "        vertical-align: middle;\n",
              "    }\n",
              "\n",
              "    .dataframe tbody tr th {\n",
              "        vertical-align: top;\n",
              "    }\n",
              "\n",
              "    .dataframe thead th {\n",
              "        text-align: right;\n",
              "    }\n",
              "</style>\n",
              "<table border=\"1\" class=\"dataframe\">\n",
              "  <thead>\n",
              "    <tr style=\"text-align: right;\">\n",
              "      <th></th>\n",
              "      <th>condition</th>\n",
              "      <th>head</th>\n",
              "      <th>eye</th>\n",
              "      <th>mouth</th>\n",
              "      <th>drowsiness</th>\n",
              "    </tr>\n",
              "  </thead>\n",
              "  <tbody>\n",
              "    <tr>\n",
              "      <th>count</th>\n",
              "      <td>205820</td>\n",
              "      <td>205820</td>\n",
              "      <td>205820</td>\n",
              "      <td>205820</td>\n",
              "      <td>205820</td>\n",
              "    </tr>\n",
              "    <tr>\n",
              "      <th>unique</th>\n",
              "      <td>5</td>\n",
              "      <td>3</td>\n",
              "      <td>2</td>\n",
              "      <td>3</td>\n",
              "      <td>2</td>\n",
              "    </tr>\n",
              "    <tr>\n",
              "      <th>top</th>\n",
              "      <td>noglasses</td>\n",
              "      <td>0</td>\n",
              "      <td>1</td>\n",
              "      <td>0</td>\n",
              "      <td>1</td>\n",
              "    </tr>\n",
              "    <tr>\n",
              "      <th>freq</th>\n",
              "      <td>53093</td>\n",
              "      <td>178142</td>\n",
              "      <td>179246</td>\n",
              "      <td>168674</td>\n",
              "      <td>182685</td>\n",
              "    </tr>\n",
              "  </tbody>\n",
              "</table>\n",
              "</div>\n",
              "      <button class=\"colab-df-convert\" onclick=\"convertToInteractive('df-dd7f3bc9-f995-4d38-ad49-8a171bc1f3be')\"\n",
              "              title=\"Convert this dataframe to an interactive table.\"\n",
              "              style=\"display:none;\">\n",
              "        \n",
              "  <svg xmlns=\"http://www.w3.org/2000/svg\" height=\"24px\"viewBox=\"0 0 24 24\"\n",
              "       width=\"24px\">\n",
              "    <path d=\"M0 0h24v24H0V0z\" fill=\"none\"/>\n",
              "    <path d=\"M18.56 5.44l.94 2.06.94-2.06 2.06-.94-2.06-.94-.94-2.06-.94 2.06-2.06.94zm-11 1L8.5 8.5l.94-2.06 2.06-.94-2.06-.94L8.5 2.5l-.94 2.06-2.06.94zm10 10l.94 2.06.94-2.06 2.06-.94-2.06-.94-.94-2.06-.94 2.06-2.06.94z\"/><path d=\"M17.41 7.96l-1.37-1.37c-.4-.4-.92-.59-1.43-.59-.52 0-1.04.2-1.43.59L10.3 9.45l-7.72 7.72c-.78.78-.78 2.05 0 2.83L4 21.41c.39.39.9.59 1.41.59.51 0 1.02-.2 1.41-.59l7.78-7.78 2.81-2.81c.8-.78.8-2.07 0-2.86zM5.41 20L4 18.59l7.72-7.72 1.47 1.35L5.41 20z\"/>\n",
              "  </svg>\n",
              "      </button>\n",
              "      \n",
              "  <style>\n",
              "    .colab-df-container {\n",
              "      display:flex;\n",
              "      flex-wrap:wrap;\n",
              "      gap: 12px;\n",
              "    }\n",
              "\n",
              "    .colab-df-convert {\n",
              "      background-color: #E8F0FE;\n",
              "      border: none;\n",
              "      border-radius: 50%;\n",
              "      cursor: pointer;\n",
              "      display: none;\n",
              "      fill: #1967D2;\n",
              "      height: 32px;\n",
              "      padding: 0 0 0 0;\n",
              "      width: 32px;\n",
              "    }\n",
              "\n",
              "    .colab-df-convert:hover {\n",
              "      background-color: #E2EBFA;\n",
              "      box-shadow: 0px 1px 2px rgba(60, 64, 67, 0.3), 0px 1px 3px 1px rgba(60, 64, 67, 0.15);\n",
              "      fill: #174EA6;\n",
              "    }\n",
              "\n",
              "    [theme=dark] .colab-df-convert {\n",
              "      background-color: #3B4455;\n",
              "      fill: #D2E3FC;\n",
              "    }\n",
              "\n",
              "    [theme=dark] .colab-df-convert:hover {\n",
              "      background-color: #434B5C;\n",
              "      box-shadow: 0px 1px 3px 1px rgba(0, 0, 0, 0.15);\n",
              "      filter: drop-shadow(0px 1px 2px rgba(0, 0, 0, 0.3));\n",
              "      fill: #FFFFFF;\n",
              "    }\n",
              "  </style>\n",
              "\n",
              "      <script>\n",
              "        const buttonEl =\n",
              "          document.querySelector('#df-dd7f3bc9-f995-4d38-ad49-8a171bc1f3be button.colab-df-convert');\n",
              "        buttonEl.style.display =\n",
              "          google.colab.kernel.accessAllowed ? 'block' : 'none';\n",
              "\n",
              "        async function convertToInteractive(key) {\n",
              "          const element = document.querySelector('#df-dd7f3bc9-f995-4d38-ad49-8a171bc1f3be');\n",
              "          const dataTable =\n",
              "            await google.colab.kernel.invokeFunction('convertToInteractive',\n",
              "                                                     [key], {});\n",
              "          if (!dataTable) return;\n",
              "\n",
              "          const docLinkHtml = 'Like what you see? Visit the ' +\n",
              "            '<a target=\"_blank\" href=https://colab.research.google.com/notebooks/data_table.ipynb>data table notebook</a>'\n",
              "            + ' to learn more about interactive tables.';\n",
              "          element.innerHTML = '';\n",
              "          dataTable['output_type'] = 'display_data';\n",
              "          await google.colab.output.renderOutput(dataTable, element);\n",
              "          const docLink = document.createElement('div');\n",
              "          docLink.innerHTML = docLinkHtml;\n",
              "          element.appendChild(docLink);\n",
              "        }\n",
              "      </script>\n",
              "    </div>\n",
              "  </div>\n",
              "  "
            ],
            "text/plain": [
              "        condition    head     eye   mouth drowsiness\n",
              "count      205820  205820  205820  205820     205820\n",
              "unique          5       3       2       3          2\n",
              "top     noglasses       0       1       0          1\n",
              "freq        53093  178142  179246  168674     182685"
            ]
          },
          "execution_count": 22,
          "metadata": {},
          "output_type": "execute_result"
        }
      ],
      "source": [
        "import pandas as pd\n",
        "\n",
        "dataset_path = \"/content/drive/MyDrive/Dataset/Training_Evaluation_Dataset/Training Dataset/sleepy_combined.csv\"\n",
        "\n",
        "# convert numpy array to pandas dataframe\n",
        "# Note that each columns are indexed according to their sorting order in cell 3 line 16.\n",
        "# To verify this, uncomment cell 3 line 17, then execute the cell. This will print out the ordered data for verification\n",
        "dataframe = pd.DataFrame({\n",
        "    'condition': np_frame[:, 0],\n",
        "    'head': np_frame[:, 3],\n",
        "    'eye': np_frame[:, 2],\n",
        "    'mouth': np_frame[:, 4],\n",
        "    'drowsiness': np_frame[:, 1]\n",
        "})\n",
        "\n",
        "# Write the dataframe to a file\n",
        "# dataframe.to_csv(dataset_path, index=False)\n",
        "\n",
        "dataframe.describe()\n",
        "# dataframe.head()"
      ]
    },
    {
      "cell_type": "code",
      "execution_count": null,
      "metadata": {
        "id": "inkIc2UkzD8A"
      },
      "outputs": [],
      "source": [
        "# # Extract frames from all videos\n",
        "\n",
        "# from pathlib import Path, PosixPath\n",
        "# import cv2\n",
        "\n",
        "# dataset_path = \"/content/drive/MyDrive/Dataset/Training_Evaluation_Dataset/Training Dataset\"\n",
        "\n",
        "# def read_and_slice_video(path):\n",
        "#   vidcap = cv2.VideoCapture(path)\n",
        "#   success,image = vidcap.read()\n",
        "#   count = 1\n",
        "#   while success:\n",
        "#     cv2.imwrite(path.replace('.avi', '/') + \"%d.jpg\" % count, image)     # save frame as JPEG file      \n",
        "#     success,image = vidcap.read()\n",
        "#     count += 1\n",
        "#   print(\"extracted %d frames\" % count)\n",
        "\n",
        "# # Get all nonSleepyCondition files and parse their content as a list\n",
        "# for child in Path(dataset_path).iterdir():\n",
        "#   for sub_child in sorted(child.iterdir()):\n",
        "#     yawning_video_path = sub_child.__str__() + '/nonsleepyCombination.avi'\n",
        "#     Path(yawning_video_path.replace('.avi', '/')).mkdir()\n",
        "#     print(\"extracting frames from \" + yawning_video_path)\n",
        "#     read_and_slice_video(yawning_video_path)"
      ]
    },
    {
      "cell_type": "code",
      "execution_count": null,
      "metadata": {
        "colab": {
          "base_uri": "https://localhost:8080/"
        },
        "id": "HIPm01FMzGku",
        "outputId": "1c05fc0b-599a-409d-dbdf-51e2575c75a3"
      },
      "outputs": [
        {
          "output_type": "stream",
          "name": "stdout",
          "text": [
            "/content/drive/MyDrive/Dataset/Training_Evaluation_Dataset/Training Dataset/031/glasses  ->  1\n",
            "/content/drive/MyDrive/Dataset/Training_Evaluation_Dataset/Training Dataset/031/night_noglasses  ->  2\n",
            "/content/drive/MyDrive/Dataset/Training_Evaluation_Dataset/Training Dataset/031/nightglasses  ->  3\n",
            "/content/drive/MyDrive/Dataset/Training_Evaluation_Dataset/Training Dataset/031/noglasses  ->  4\n",
            "/content/drive/MyDrive/Dataset/Training_Evaluation_Dataset/Training Dataset/031/sunglasses  ->  5\n",
            "/content/drive/MyDrive/Dataset/Training_Evaluation_Dataset/Training Dataset/002/glasses  ->  6\n",
            "/content/drive/MyDrive/Dataset/Training_Evaluation_Dataset/Training Dataset/002/night_noglasses  ->  7\n",
            "/content/drive/MyDrive/Dataset/Training_Evaluation_Dataset/Training Dataset/002/nightglasses  ->  8\n",
            "/content/drive/MyDrive/Dataset/Training_Evaluation_Dataset/Training Dataset/002/noglasses  ->  9\n",
            "/content/drive/MyDrive/Dataset/Training_Evaluation_Dataset/Training Dataset/002/sunglasses  ->  10\n",
            "/content/drive/MyDrive/Dataset/Training_Evaluation_Dataset/Training Dataset/006/glasses  ->  11\n",
            "/content/drive/MyDrive/Dataset/Training_Evaluation_Dataset/Training Dataset/006/night_noglasses  ->  12\n",
            "/content/drive/MyDrive/Dataset/Training_Evaluation_Dataset/Training Dataset/006/nightglasses  ->  13\n",
            "/content/drive/MyDrive/Dataset/Training_Evaluation_Dataset/Training Dataset/006/noglasses  ->  14\n",
            "/content/drive/MyDrive/Dataset/Training_Evaluation_Dataset/Training Dataset/006/sunglasses  ->  15\n",
            "/content/drive/MyDrive/Dataset/Training_Evaluation_Dataset/Training Dataset/001/glasses  ->  16\n",
            "/content/drive/MyDrive/Dataset/Training_Evaluation_Dataset/Training Dataset/001/night_noglasses  ->  17\n",
            "/content/drive/MyDrive/Dataset/Training_Evaluation_Dataset/Training Dataset/001/nightglasses  ->  18\n",
            "/content/drive/MyDrive/Dataset/Training_Evaluation_Dataset/Training Dataset/001/noglasses  ->  19\n",
            "/content/drive/MyDrive/Dataset/Training_Evaluation_Dataset/Training Dataset/001/sunglasses  ->  20\n",
            "/content/drive/MyDrive/Dataset/Training_Evaluation_Dataset/Training Dataset/005/glasses  ->  21\n",
            "/content/drive/MyDrive/Dataset/Training_Evaluation_Dataset/Training Dataset/005/night_noglasses  ->  22\n",
            "/content/drive/MyDrive/Dataset/Training_Evaluation_Dataset/Training Dataset/005/noglasses  ->  23\n",
            "/content/drive/MyDrive/Dataset/Training_Evaluation_Dataset/Training Dataset/005/sunglasses  ->  24\n",
            "/content/drive/MyDrive/Dataset/Training_Evaluation_Dataset/Training Dataset/008/glasses  ->  25\n",
            "/content/drive/MyDrive/Dataset/Training_Evaluation_Dataset/Training Dataset/008/night_noglasses  ->  26\n",
            "/content/drive/MyDrive/Dataset/Training_Evaluation_Dataset/Training Dataset/008/nightglasses  ->  27\n",
            "/content/drive/MyDrive/Dataset/Training_Evaluation_Dataset/Training Dataset/008/noglasses  ->  28\n",
            "/content/drive/MyDrive/Dataset/Training_Evaluation_Dataset/Training Dataset/008/sunglasses  ->  29\n",
            "/content/drive/MyDrive/Dataset/Training_Evaluation_Dataset/Training Dataset/009/glasses  ->  30\n",
            "/content/drive/MyDrive/Dataset/Training_Evaluation_Dataset/Training Dataset/009/night_noglasses  ->  31\n",
            "/content/drive/MyDrive/Dataset/Training_Evaluation_Dataset/Training Dataset/009/nightglasses  ->  32\n",
            "/content/drive/MyDrive/Dataset/Training_Evaluation_Dataset/Training Dataset/009/noglasses  ->  33\n",
            "/content/drive/MyDrive/Dataset/Training_Evaluation_Dataset/Training Dataset/009/sunglasses  ->  34\n",
            "/content/drive/MyDrive/Dataset/Training_Evaluation_Dataset/Training Dataset/012/glasses  ->  35\n",
            "/content/drive/MyDrive/Dataset/Training_Evaluation_Dataset/Training Dataset/012/night_noglasses  ->  36\n",
            "/content/drive/MyDrive/Dataset/Training_Evaluation_Dataset/Training Dataset/012/nightglasses  ->  37\n",
            "/content/drive/MyDrive/Dataset/Training_Evaluation_Dataset/Training Dataset/012/noglasses  ->  38\n",
            "/content/drive/MyDrive/Dataset/Training_Evaluation_Dataset/Training Dataset/012/sunglasses  ->  39\n",
            "/content/drive/MyDrive/Dataset/Training_Evaluation_Dataset/Training Dataset/013/glasses  ->  40\n",
            "/content/drive/MyDrive/Dataset/Training_Evaluation_Dataset/Training Dataset/013/night_noglasses  ->  41\n",
            "/content/drive/MyDrive/Dataset/Training_Evaluation_Dataset/Training Dataset/013/nightglasses  ->  42\n",
            "/content/drive/MyDrive/Dataset/Training_Evaluation_Dataset/Training Dataset/013/noglasses  ->  43\n",
            "/content/drive/MyDrive/Dataset/Training_Evaluation_Dataset/Training Dataset/013/sunglasses  ->  44\n",
            "/content/drive/MyDrive/Dataset/Training_Evaluation_Dataset/Training Dataset/032/glasses  ->  45\n",
            "/content/drive/MyDrive/Dataset/Training_Evaluation_Dataset/Training Dataset/032/night_noglasses  ->  46\n",
            "/content/drive/MyDrive/Dataset/Training_Evaluation_Dataset/Training Dataset/032/nightglasses  ->  47\n",
            "/content/drive/MyDrive/Dataset/Training_Evaluation_Dataset/Training Dataset/032/noglasses  ->  48\n",
            "/content/drive/MyDrive/Dataset/Training_Evaluation_Dataset/Training Dataset/032/sunglasses  ->  49\n",
            "/content/drive/MyDrive/Dataset/Training_Evaluation_Dataset/Training Dataset/033/glasses  ->  50\n",
            "/content/drive/MyDrive/Dataset/Training_Evaluation_Dataset/Training Dataset/033/night_noglasses  ->  51\n",
            "/content/drive/MyDrive/Dataset/Training_Evaluation_Dataset/Training Dataset/033/nightglasses  ->  52\n",
            "/content/drive/MyDrive/Dataset/Training_Evaluation_Dataset/Training Dataset/033/noglasses  ->  53\n",
            "/content/drive/MyDrive/Dataset/Training_Evaluation_Dataset/Training Dataset/033/sunglasses  ->  54\n",
            "/content/drive/MyDrive/Dataset/Training_Evaluation_Dataset/Training Dataset/015/glasses  ->  55\n",
            "/content/drive/MyDrive/Dataset/Training_Evaluation_Dataset/Training Dataset/015/night_noglasses  ->  56\n",
            "/content/drive/MyDrive/Dataset/Training_Evaluation_Dataset/Training Dataset/015/nightglasses  ->  57\n",
            "/content/drive/MyDrive/Dataset/Training_Evaluation_Dataset/Training Dataset/015/noglasses  ->  58\n",
            "/content/drive/MyDrive/Dataset/Training_Evaluation_Dataset/Training Dataset/015/sunglasses  ->  59\n",
            "/content/drive/MyDrive/Dataset/Training_Evaluation_Dataset/Training Dataset/034/glasses  ->  60\n",
            "/content/drive/MyDrive/Dataset/Training_Evaluation_Dataset/Training Dataset/034/night_noglasses  ->  61\n",
            "/content/drive/MyDrive/Dataset/Training_Evaluation_Dataset/Training Dataset/034/nightglasses  ->  62\n",
            "/content/drive/MyDrive/Dataset/Training_Evaluation_Dataset/Training Dataset/034/noglasses  ->  63\n",
            "/content/drive/MyDrive/Dataset/Training_Evaluation_Dataset/Training Dataset/034/sunglasses  ->  64\n",
            "/content/drive/MyDrive/Dataset/Training_Evaluation_Dataset/Training Dataset/035/glasses  ->  65\n",
            "/content/drive/MyDrive/Dataset/Training_Evaluation_Dataset/Training Dataset/035/night_noglasses  ->  66\n",
            "/content/drive/MyDrive/Dataset/Training_Evaluation_Dataset/Training Dataset/035/nightglasses  ->  67\n",
            "/content/drive/MyDrive/Dataset/Training_Evaluation_Dataset/Training Dataset/035/noglasses  ->  68\n",
            "/content/drive/MyDrive/Dataset/Training_Evaluation_Dataset/Training Dataset/035/sunglasses  ->  69\n",
            "/content/drive/MyDrive/Dataset/Training_Evaluation_Dataset/Training Dataset/036/glasses  ->  70\n",
            "/content/drive/MyDrive/Dataset/Training_Evaluation_Dataset/Training Dataset/036/night_noglasses  ->  71\n",
            "/content/drive/MyDrive/Dataset/Training_Evaluation_Dataset/Training Dataset/036/nightglasses  ->  72\n",
            "/content/drive/MyDrive/Dataset/Training_Evaluation_Dataset/Training Dataset/036/noglasses  ->  73\n",
            "/content/drive/MyDrive/Dataset/Training_Evaluation_Dataset/Training Dataset/036/sunglasses  ->  74\n",
            "/content/drive/MyDrive/Dataset/Training_Evaluation_Dataset/Training Dataset/020/glasses  ->  75\n",
            "/content/drive/MyDrive/Dataset/Training_Evaluation_Dataset/Training Dataset/020/night_noglasses  ->  76\n",
            "/content/drive/MyDrive/Dataset/Training_Evaluation_Dataset/Training Dataset/020/nightglasses  ->  77\n",
            "/content/drive/MyDrive/Dataset/Training_Evaluation_Dataset/Training Dataset/020/noglasses  ->  78\n",
            "/content/drive/MyDrive/Dataset/Training_Evaluation_Dataset/Training Dataset/020/sunglasses  ->  79\n",
            "/content/drive/MyDrive/Dataset/Training_Evaluation_Dataset/Training Dataset/023/glasses  ->  80\n",
            "/content/drive/MyDrive/Dataset/Training_Evaluation_Dataset/Training Dataset/023/night_noglasses  ->  81\n",
            "/content/drive/MyDrive/Dataset/Training_Evaluation_Dataset/Training Dataset/023/nightglasses  ->  82\n",
            "/content/drive/MyDrive/Dataset/Training_Evaluation_Dataset/Training Dataset/023/noglasses  ->  83\n",
            "/content/drive/MyDrive/Dataset/Training_Evaluation_Dataset/Training Dataset/023/sunglasses  ->  84\n",
            "/content/drive/MyDrive/Dataset/Training_Evaluation_Dataset/Training Dataset/024/glasses  ->  85\n",
            "/content/drive/MyDrive/Dataset/Training_Evaluation_Dataset/Training Dataset/024/night_noglasses  ->  86\n",
            "/content/drive/MyDrive/Dataset/Training_Evaluation_Dataset/Training Dataset/024/nightglasses  ->  87\n",
            "/content/drive/MyDrive/Dataset/Training_Evaluation_Dataset/Training Dataset/024/noglasses  ->  88\n",
            "/content/drive/MyDrive/Dataset/Training_Evaluation_Dataset/Training Dataset/024/sunglasses  ->  89\n"
          ]
        }
      ],
      "source": [
        "# !pip install numpy opencv-python dlib imutils\n",
        "from pathlib import Path, PosixPath\n",
        "from imutils import face_utils\n",
        "import numpy as np\n",
        "import imutils\n",
        "import dlib\n",
        "import cv2\n",
        "\n",
        "feature_dict = {\n",
        "  # \"nose\": (27, 35),\n",
        "  \"right_eyebrow\": (17, 22),\n",
        "\t\"left_eyebrow\": (22, 27)\n",
        "}\n",
        "\n",
        "predictor_landmark_path = \"/content/drive/MyDrive/Dataset/Training_Evaluation_Dataset/shape_predictor_68_face_landmarks.dat\"\n",
        "dataset_path = \"/content/drive/MyDrive/Dataset/Training_Evaluation_Dataset/Training Dataset\"\n",
        "detector = dlib.get_frontal_face_detector()\n",
        "predictor = dlib.shape_predictor(predictor_landmark_path)\n",
        "\n",
        "def get_eyebrow_state(path):\n",
        "  gray_image = cv2.imread(path, cv2.IMREAD_GRAYSCALE)\n",
        "\n",
        "  rects = detector(gray_image, 0)\n",
        "\n",
        "  # print(rects)\n",
        "\n",
        "  detected_feature_dict = {}\n",
        "\n",
        "  for rect in list(rects):\n",
        "      shape = predictor(gray_image, rect)\n",
        "      shape = face_utils.shape_to_np(shape)\n",
        "\n",
        "      for feature in list(feature_dict.keys()):\n",
        "        (x, y) = feature_dict[feature]\n",
        "        detected_feature_dict[feature] = shape[x:y]\n",
        "\n",
        "  if not 'right_eyebrow' in list(detected_feature_dict.keys()) or not 'left_eyebrow' in list(detected_feature_dict.keys()): return 0\n",
        "    \n",
        "  right_eyebrow, left_eyebrow = detected_feature_dict['right_eyebrow'], detected_feature_dict['left_eyebrow']\n",
        "\n",
        "  eyebrow_base = min(right_eyebrow[0][1], right_eyebrow[4][1])\n",
        "\n",
        "  if right_eyebrow[2][1] >= eyebrow_base:\n",
        "    return 1\n",
        "  else: return 0\n",
        "\n",
        "\n",
        "states = ''\n",
        "iter_count = 1\n",
        "\n",
        "# Get all nonSleepyCondition files and parse their content as a list\n",
        "for child in Path(dataset_path).iterdir():\n",
        "  for sub_child in sorted(child.iterdir()):\n",
        "    print(str(sub_child), ' -> ', iter_count)\n",
        "    each = Path.joinpath(sub_child, 'nonsleepyCombination').glob('*.jpg')\n",
        "    for path in each:\n",
        "      states += str(get_eyebrow_state(str(path)))\n",
        "    iter_count += 1\n",
        "\n",
        "with open(dataset_path + \"/eyebrow_state.txt\",\"a+\") as f:\n",
        "    f.write(states)"
      ]
    },
    {
      "cell_type": "code",
      "execution_count": null,
      "metadata": {
        "id": "eUKOZFOD4fkD"
      },
      "outputs": [],
      "source": [
        "import math\n",
        "import pandas as pd\n",
        "\n",
        "combined = \"/content/drive/MyDrive/Dataset/Training_Evaluation_Dataset/sleepy_combined.csv\"\n",
        "\n",
        "\n",
        "df = pd.read_csv(combined)\n",
        "# df = pd.read_csv(combined, skiprows=1)\n",
        "\n",
        "encodings = pd.get_dummies(df['condition'])\n",
        "\n",
        "df = df.drop(['condition'], axis=1)\n",
        "df['nostril'] = df['mouth']\n",
        "df['eyebrows'] = df['eye']\n",
        "\n",
        "df = df.join(encodings)\n",
        "df = df.astype('float32')\n",
        "df = df[:-3]\n",
        "\n",
        "print(df.shape)\n",
        "\n",
        "# df.to_csv(combined)"
      ]
    },
    {
      "cell_type": "code",
      "source": [
        "non_sleepy = pd.read_csv('/content/drive/MyDrive/Dataset/Training_Evaluation_Dataset/combined.csv')\n",
        "sleepy = pd.read_csv('/content/drive/MyDrive/Dataset/Training_Evaluation_Dataset/sleepy_combined.csv')\n",
        "\n",
        "combined = pd.concat([non_sleepy, sleepy])\n",
        "\n",
        "combined.drop(combined.columns[len(combined.columns)-1], axis=1, inplace=True)\n",
        "\n",
        "# combined.to_csv('/content/drive/MyDrive/Dataset/Training_Evaluation_Dataset/combined_dataset.csv', index=False)\n",
        "\n",
        "combined.shape"
      ],
      "metadata": {
        "id": "vYBv-2T-dpNN"
      },
      "execution_count": null,
      "outputs": []
    },
    {
      "cell_type": "markdown",
      "source": [
        "**Cell to split dataset into different states**"
      ],
      "metadata": {
        "id": "j9UArtZ5S4sI"
      }
    },
    {
      "cell_type": "code",
      "source": [
        "import pandas as pd\n",
        "\n",
        "data = pd.read_csv('/content/drive/MyDrive/Dataset/Training_Evaluation_Dataset/combined_dataset.csv')\n",
        "\n",
        "def extract_state(data, state_name):\n",
        "  return data[(data[state_name] == 1)]\n",
        "\n",
        "# glasses = extract_state(\"glasses\");\n",
        "\n",
        "# glasses.shape"
      ],
      "metadata": {
        "id": "Gd-YmnB7S26Q"
      },
      "execution_count": null,
      "outputs": []
    },
    {
      "cell_type": "markdown",
      "source": [
        "**Write different states to file**"
      ],
      "metadata": {
        "id": "SsMWdmA6Vpm6"
      }
    },
    {
      "cell_type": "code",
      "source": [
        "# states = ['glasses', 'noglasses', 'night_noglasses', 'sunglasses', 'nightglasses']\n",
        "\n",
        "# for state in states:\n",
        "#   _data = extract_state(state)\n",
        "#   print(state, _data.shape)\n",
        "#   _data.to_csv('/content/drive/MyDrive/Dataset/Training_Evaluation_Dataset/combined_' + state + '.csv', index=False)"
      ],
      "metadata": {
        "colab": {
          "base_uri": "https://localhost:8080/"
        },
        "id": "_o6cu2mXVoMK",
        "outputId": "7a847c7a-a57e-4d13-84c2-68edde6c6c48"
      },
      "execution_count": null,
      "outputs": [
        {
          "output_type": "stream",
          "name": "stdout",
          "text": [
            "glasses (106918, 11)\n",
            "noglasses (106240, 11)\n",
            "night_noglasses (52408, 11)\n",
            "sunglasses (108023, 11)\n",
            "nightglasses (49682, 11)\n"
          ]
        }
      ]
    },
    {
      "cell_type": "code",
      "source": [
        "def compute_hcf(*nums):\n",
        "  smaller = min(nums)\n",
        "  hcfs = []\n",
        "\n",
        "  for i in range(1, smaller+1):\n",
        "    if (correct_hcf(i, *nums)):\n",
        "      hcfs.append(i) \n",
        "\n",
        "  return max(hcfs)\n",
        "\n",
        "\n",
        "def correct_hcf(div, *nums):\n",
        "  for x in nums:\n",
        "    if (x % div != 0): return False\n",
        "  return True\n"
      ],
      "metadata": {
        "id": "JFFsagLxxvyU"
      },
      "execution_count": null,
      "outputs": []
    },
    {
      "cell_type": "code",
      "source": [
        "import pandas as pd\n",
        "\n",
        "data = pd.read_csv('/content/drive/MyDrive/Dataset/Training_Evaluation_Dataset/combined_dataset.csv')\n",
        "\n",
        "def reshape(data, batch, features = 11):\n",
        "  data = data.sample(frac = 1)\n",
        "  return data.to_numpy().reshape(int(len(data) / batch), batch, features)\n",
        "\n",
        "def perc(df, num):\n",
        "  return int(len(df) * (num / 100))\n",
        "\n",
        "def head(df):\n",
        "  return df.head(perc(df, 10))[: -11]\n",
        "\n",
        "def tail(df):\n",
        "  return df.tail(perc(df, 90))[: -11]\n",
        "\n",
        "def merge(df1, df2, df3, df4, df5):\n",
        "  return pd.concat([tail(df1), tail(df2), tail(df3), tail(df4), tail(df5)])[: -11]\n",
        "\n",
        "def split(data):\n",
        "  glasses = extract_state(data, \"glasses\")\n",
        "  noglasses = extract_state(data, \"noglasses\")\n",
        "  night_noglasses = extract_state(data, \"night_noglasses\")\n",
        "  sunglasses = extract_state(data, \"sunglasses\")\n",
        "  nightglasses = extract_state(data, \"nightglasses\")\n",
        "\n",
        "  # Trim dfs to get numbers divisible by 20 for reshaping purpose\n",
        "  return (head(glasses), head(noglasses).iloc[:-13], head(night_noglasses).iloc[:-9], head(sunglasses).iloc[:-11], head(nightglasses).iloc[:-17], merge(glasses, noglasses, night_noglasses, sunglasses, nightglasses).iloc[:-16])\n",
        "\n",
        "\n",
        "(glasses_test, noglasses_test, night_noglasses_test, sunglasses_test, nightglasses_test, train_val) = split(data);\n",
        "\n",
        "# train_test = reshape(train_test, 20, 11)\n",
        "\n",
        "hcf = compute_hcf(len(train_val), len(glasses_test), len(noglasses_test), len(night_noglasses_test), len(sunglasses_test), len(nightglasses_test))\n",
        "\n",
        "print(\"HCF: \" + str(hcf))\n",
        "\n",
        "train_val = reshape(train_val, hcf)"
      ],
      "metadata": {
        "colab": {
          "base_uri": "https://localhost:8080/"
        },
        "id": "Wip2TtL4dzLH",
        "outputId": "b8a5894f-6868-4d79-c6f3-666a0d672627"
      },
      "execution_count": null,
      "outputs": [
        {
          "output_type": "stream",
          "name": "stdout",
          "text": [
            "HCF: 20\n"
          ]
        }
      ]
    },
    {
      "cell_type": "code",
      "source": [
        "glasses_data = pd.read_csv('/content/drive/MyDrive/Dataset/Training_Evaluation_Dataset/combined_glasses.csv')\n",
        "\n",
        "glasses_data = glasses_data[: -18]\n",
        "\n",
        "glasses_test = reshape(glasses_data, hcf)\n",
        "\n",
        "glasses_test.shape"
      ],
      "metadata": {
        "colab": {
          "base_uri": "https://localhost:8080/"
        },
        "id": "FOkH4puo-QKd",
        "outputId": "bad205d7-6731-41f4-d0d0-80c2f3e0ba3f"
      },
      "execution_count": null,
      "outputs": [
        {
          "output_type": "execute_result",
          "data": {
            "text/plain": [
              "(5345, 20, 11)"
            ]
          },
          "metadata": {},
          "execution_count": 23
        }
      ]
    },
    {
      "cell_type": "code",
      "source": [
        "noglasses_data = pd.read_csv('/content/drive/MyDrive/Dataset/Training_Evaluation_Dataset/combined_noglasses.csv')\n",
        "\n",
        "noglasses_test = reshape(noglasses_data, hcf)\n",
        "\n",
        "noglasses_test.shape"
      ],
      "metadata": {
        "colab": {
          "base_uri": "https://localhost:8080/"
        },
        "id": "A162HdREAUmI",
        "outputId": "6bd12a2e-56e3-4df4-dfa5-92a8dc83a8e0"
      },
      "execution_count": null,
      "outputs": [
        {
          "output_type": "execute_result",
          "data": {
            "text/plain": [
              "(5312, 20, 11)"
            ]
          },
          "metadata": {},
          "execution_count": 26
        }
      ]
    },
    {
      "cell_type": "code",
      "source": [
        "sunglasses_data = pd.read_csv('/content/drive/MyDrive/Dataset/Training_Evaluation_Dataset/combined_sunglasses.csv')\n",
        "\n",
        "sunglasses_data = sunglasses_data[: -3]\n",
        "\n",
        "sunglasses_test = reshape(sunglasses_data, hcf)\n",
        "\n",
        "sunglasses_test.shape"
      ],
      "metadata": {
        "colab": {
          "base_uri": "https://localhost:8080/"
        },
        "id": "DQyE3rHfAkf8",
        "outputId": "e22424db-1837-49bc-b29d-ea4178042264"
      },
      "execution_count": null,
      "outputs": [
        {
          "output_type": "execute_result",
          "data": {
            "text/plain": [
              "(5401, 20, 11)"
            ]
          },
          "metadata": {},
          "execution_count": 28
        }
      ]
    },
    {
      "cell_type": "code",
      "source": [
        "night_noglasses_data = pd.read_csv('/content/drive/MyDrive/Dataset/Training_Evaluation_Dataset/combined_night_noglasses.csv')\n",
        "\n",
        "night_noglasses_data = night_noglasses_data[: -8]\n",
        "\n",
        "night_noglasses_test = reshape(night_noglasses_data, hcf)\n",
        "\n",
        "night_noglasses_test.shape"
      ],
      "metadata": {
        "colab": {
          "base_uri": "https://localhost:8080/"
        },
        "id": "VCmYzQ7WA4mF",
        "outputId": "496c452e-5db9-4f83-b86c-403be2ce3534"
      },
      "execution_count": null,
      "outputs": [
        {
          "output_type": "execute_result",
          "data": {
            "text/plain": [
              "(2620, 20, 11)"
            ]
          },
          "metadata": {},
          "execution_count": 30
        }
      ]
    },
    {
      "cell_type": "code",
      "source": [
        "nightglasses_data = pd.read_csv('/content/drive/MyDrive/Dataset/Training_Evaluation_Dataset/combined_nightglasses.csv')\n",
        "\n",
        "nightglasses_data = nightglasses_data[: -2]\n",
        "\n",
        "nightglasses_test = reshape(nightglasses_data, hcf)\n",
        "\n",
        "nightglasses_test.shape"
      ],
      "metadata": {
        "colab": {
          "base_uri": "https://localhost:8080/"
        },
        "id": "PHUk-AUPBMOi",
        "outputId": "234c0575-d413-4670-e0f0-46a97946d721"
      },
      "execution_count": null,
      "outputs": [
        {
          "output_type": "execute_result",
          "data": {
            "text/plain": [
              "(2484, 20, 11)"
            ]
          },
          "metadata": {},
          "execution_count": 32
        }
      ]
    },
    {
      "cell_type": "code",
      "source": [
        "import tensorflow as tf\n",
        "from tensorflow import keras\n",
        "import numpy as np# from tensorflow.keras.models import Model\n",
        "# from tensorflow.keras.layers import Dropout,Input,Flatten,Dense,MaxPooling2D\n",
        "\n",
        "train, val = np.split(train_val, [int(0.70*len(train_val))])\n",
        "\n",
        "print(len(train), 'training examples')\n",
        "print(len(val), 'validation examples')\n"
      ],
      "metadata": {
        "colab": {
          "base_uri": "https://localhost:8080/"
        },
        "id": "aNB13rSCd7ue",
        "outputId": "b3983738-6013-4920-b8d4-d9b256bd1aa6"
      },
      "execution_count": null,
      "outputs": [
        {
          "output_type": "stream",
          "name": "stdout",
          "text": [
            "13330 training examples\n",
            "5713 validation examples\n"
          ]
        }
      ]
    },
    {
      "cell_type": "code",
      "source": [
        "K = tf.keras.backend\n",
        "\n",
        "def f1_score(y_true, y_pred): #taken from old keras source code\n",
        "    true_positives = K.sum(K.round(K.clip(y_true * y_pred, 0, 1)))\n",
        "    possible_positives = K.sum(K.round(K.clip(y_true, 0, 1)))\n",
        "    predicted_positives = K.sum(K.round(K.clip(y_pred, 0, 1)))\n",
        "    precision = true_positives / (predicted_positives + K.epsilon())\n",
        "    recall = true_positives / (possible_positives + K.epsilon())\n",
        "    f1_val = 2*(precision*recall)/(precision+recall+K.epsilon())\n",
        "    return f1_val\n",
        "\n",
        "model = keras.Sequential()\n",
        "# model.add(keras.layers.Flatten())\n",
        "model.add(keras.layers.LSTM(128, activation=\"relu\", input_shape=(20, 10), return_sequences=True))\n",
        "model.add(keras.layers.LSTM(64, activation=\"relu\", return_sequences=True))\n",
        "model.add(keras.layers.LSTM(64, activation=\"relu\", return_sequences=True))\n",
        "model.add(keras.layers.LSTM(32, activation=\"relu\", return_sequences=True))\n",
        "model.add(keras.layers.Dense(1, activation=\"sigmoid\"))\n",
        "model.compile(loss='binary_crossentropy', optimizer='adam', metrics=['acc', f1_score])\n",
        "\n",
        "print(model.summary())\n",
        "keras.utils.plot_model(model, show_shapes=True)"
      ],
      "metadata": {
        "colab": {
          "base_uri": "https://localhost:8080/",
          "height": 1000
        },
        "id": "lNmQxyDed9Tm",
        "outputId": "b572551b-e5b2-45d7-9660-87adf1694473"
      },
      "execution_count": null,
      "outputs": [
        {
          "output_type": "stream",
          "name": "stdout",
          "text": [
            "Model: \"sequential\"\n",
            "_________________________________________________________________\n",
            " Layer (type)                Output Shape              Param #   \n",
            "=================================================================\n",
            " lstm (LSTM)                 (None, 20, 128)           71168     \n",
            "                                                                 \n",
            " lstm_1 (LSTM)               (None, 20, 64)            49408     \n",
            "                                                                 \n",
            " lstm_2 (LSTM)               (None, 20, 64)            33024     \n",
            "                                                                 \n",
            " lstm_3 (LSTM)               (None, 20, 32)            12416     \n",
            "                                                                 \n",
            " dense (Dense)               (None, 20, 1)             33        \n",
            "                                                                 \n",
            "=================================================================\n",
            "Total params: 166,049\n",
            "Trainable params: 166,049\n",
            "Non-trainable params: 0\n",
            "_________________________________________________________________\n",
            "None\n"
          ]
        },
        {
          "output_type": "execute_result",
          "data": {
            "image/png": "[encoded data removed]",
            "text/plain": [
              "<IPython.core.display.Image object>"
            ]
          },
          "metadata": {},
          "execution_count": 16
        }
      ]
    },
    {
      "cell_type": "code",
      "source": [
        "def dataframe_to_tensor(dataframe):\n",
        "    dataframe = dataframe.copy()\n",
        "    target = dataframe[:, :, 3]\n",
        "    print(target.shape)\n",
        "    dataframe = np.delete(dataframe, 3, axis=2)\n",
        "    ds = tf.data.Dataset.from_tensor_slices((dataframe, target))\n",
        "    return ds\n",
        "\n",
        "\n",
        "_train = dataframe_to_tensor(train).batch(25)\n",
        "_val = dataframe_to_tensor(val).batch(25)\n",
        "\n",
        "print(_train.element_spec)\n",
        "print(_val.element_spec)"
      ],
      "metadata": {
        "colab": {
          "base_uri": "https://localhost:8080/"
        },
        "id": "B9Be2TIfeHmR",
        "outputId": "8f28abef-bd1d-4ec0-a452-183d6f992a44"
      },
      "execution_count": null,
      "outputs": [
        {
          "output_type": "stream",
          "name": "stdout",
          "text": [
            "(13330, 20)\n",
            "(5713, 20)\n",
            "(TensorSpec(shape=(None, 20, 10), dtype=tf.float64, name=None), TensorSpec(shape=(None, 20), dtype=tf.float64, name=None))\n",
            "(TensorSpec(shape=(None, 20, 10), dtype=tf.float64, name=None), TensorSpec(shape=(None, 20), dtype=tf.float64, name=None))\n"
          ]
        }
      ]
    },
    {
      "cell_type": "code",
      "source": [
        "# tf.compat.v1.disable_eager_execution()\n",
        "tf.compat.v1.experimental.output_all_intermediates(True)\n",
        "\n",
        "model.fit(\n",
        "    _train,\n",
        "    epochs=10,\n",
        "    validation_data=_val,\n",
        "    verbose=1,\n",
        ")\n",
        "\n",
        "model.save(\"/content/drive/MyDrive/Dataset/models/drowsiness_detection_v2_70_30\")"
      ],
      "metadata": {
        "colab": {
          "base_uri": "https://localhost:8080/"
        },
        "id": "zhC2kTF6eRJA",
        "outputId": "08695672-5bf3-47f5-bf5c-51affd29ce7a"
      },
      "execution_count": null,
      "outputs": [
        {
          "output_type": "stream",
          "name": "stdout",
          "text": [
            "Epoch 1/10\n",
            "534/534 [==============================] - 63s 101ms/step - loss: 0.3129 - acc: 0.8168 - f1_score: 0.6594 - val_loss: 0.0615 - val_acc: 0.9865 - val_f1_score: 0.9859\n",
            "Epoch 2/10\n",
            "534/534 [==============================] - 51s 95ms/step - loss: 0.0606 - acc: 0.9868 - f1_score: 0.9861 - val_loss: 0.0567 - val_acc: 0.9873 - val_f1_score: 0.9866\n",
            "Epoch 3/10\n",
            "534/534 [==============================] - 50s 93ms/step - loss: 0.0585 - acc: 0.9870 - f1_score: 0.9863 - val_loss: 0.0564 - val_acc: 0.9873 - val_f1_score: 0.9867\n",
            "Epoch 4/10\n",
            "534/534 [==============================] - 50s 93ms/step - loss: 0.0578 - acc: 0.9871 - f1_score: 0.9865 - val_loss: 0.0560 - val_acc: 0.9874 - val_f1_score: 0.9868\n",
            "Epoch 5/10\n",
            "534/534 [==============================] - 53s 100ms/step - loss: 0.0573 - acc: 0.9873 - f1_score: 0.9867 - val_loss: 0.0556 - val_acc: 0.9876 - val_f1_score: 0.9870\n",
            "Epoch 6/10\n",
            "534/534 [==============================] - 51s 96ms/step - loss: 0.0570 - acc: 0.9873 - f1_score: 0.9867 - val_loss: 0.0552 - val_acc: 0.9876 - val_f1_score: 0.9870\n",
            "Epoch 7/10\n",
            "534/534 [==============================] - 51s 95ms/step - loss: 0.0568 - acc: 0.9873 - f1_score: 0.9867 - val_loss: 0.0552 - val_acc: 0.9876 - val_f1_score: 0.9870\n",
            "Epoch 8/10\n",
            "534/534 [==============================] - 51s 95ms/step - loss: 0.0566 - acc: 0.9873 - f1_score: 0.9867 - val_loss: 0.0551 - val_acc: 0.9876 - val_f1_score: 0.9870\n",
            "Epoch 9/10\n",
            "534/534 [==============================] - 50s 94ms/step - loss: 0.0564 - acc: 0.9873 - f1_score: 0.9867 - val_loss: 0.0552 - val_acc: 0.9876 - val_f1_score: 0.9870\n",
            "Epoch 10/10\n",
            "534/534 [==============================] - 51s 95ms/step - loss: 0.0562 - acc: 0.9873 - f1_score: 0.9867 - val_loss: 0.0552 - val_acc: 0.9875 - val_f1_score: 0.9869\n"
          ]
        },
        {
          "output_type": "stream",
          "name": "stderr",
          "text": [
            "WARNING:absl:Found untraced functions such as _update_step_xla while saving (showing 1 of 1). These functions will not be directly callable after loading.\n"
          ]
        }
      ]
    },
    {
      "cell_type": "markdown",
      "source": [
        "**Model V1 Evaluation and Results**"
      ],
      "metadata": {
        "id": "ni1e3HGDCO4D"
      }
    },
    {
      "cell_type": "code",
      "source": [
        "from tensorflow import keras\n",
        "model = keras.models.load_model(\"/content/drive/MyDrive/Dataset/models/drowsiness_detection_v1\", custom_objects={'f1_score': f1_score})\n",
        "import pandas as pd\n",
        "\n",
        "states_test = [['glasses', glasses_test], ['noglasses', noglasses_test], ['night_noglasses', night_noglasses_test], ['sunglasses', sunglasses_test], ['nightglasses', nightglasses_test]]\n",
        "\n",
        "\n",
        "def evaluate(model, test, state):\n",
        "  data = dataframe_to_tensor(test).batch(25)\n",
        "\n",
        "  score = model.evaluate(data, verbose=1)\n",
        "\n",
        "  print(score)\n",
        "\n",
        "  return {\n",
        "      \"State\": state,\n",
        "      \"Loss\": score[0],\n",
        "      \"Accuracy\": score[1],\n",
        "      \"F1 Score\": score[2]\n",
        "  }\n",
        "\n",
        "results = [ evaluate(model, x[1], x[0]) for x in states_test ]\n",
        "\n",
        "# results = evaluate(model, glasses_data_test, 'glasses')\n",
        "\n",
        "result_df = pd.DataFrame(results)\n",
        "\n",
        "result_df.to_csv(\"/content/drive/MyDrive/Dataset/results/drowsiness_detection_v1_result.csv\")\n",
        "\n",
        "result_df\n",
        "\n",
        "# results"
      ],
      "metadata": {
        "colab": {
          "base_uri": "https://localhost:8080/",
          "height": 474
        },
        "id": "mz98Vo6febv9",
        "outputId": "a3b9f7e8-1ca2-4e8f-b628-0bc31c773816"
      },
      "execution_count": null,
      "outputs": [
        {
          "output_type": "stream",
          "name": "stdout",
          "text": [
            "(5345, 20)\n",
            "214/214 [==============================] - 2s 9ms/step - loss: 0.0627 - acc: 0.9853 - f1_score: 0.9826\n",
            "[0.06267676502466202, 0.9853041768074036, 0.9826368093490601]\n",
            "(5312, 20)\n",
            "213/213 [==============================] - 3s 12ms/step - loss: 0.0615 - acc: 0.9868 - f1_score: 0.9847\n",
            "[0.061540160328149796, 0.9867560863494873, 0.9847102165222168]\n",
            "(2620, 20)\n",
            "105/105 [==============================] - 2s 15ms/step - loss: 0.0461 - acc: 0.9906 - f1_score: 0.9891\n",
            "[0.04605522006750107, 0.9905725121498108, 0.9890943169593811]\n",
            "(5401, 20)\n",
            "217/217 [==============================] - 2s 9ms/step - loss: 0.0397 - acc: 0.9919 - f1_score: 0.9907\n",
            "[0.03965425118803978, 0.991899847984314, 0.9906807541847229]\n",
            "(2484, 20)\n",
            "100/100 [==============================] - 1s 9ms/step - loss: 0.0481 - acc: 0.9902 - f1_score: 0.9884\n",
            "[0.04810767248272896, 0.9901971220970154, 0.9883995056152344]\n"
          ]
        },
        {
          "output_type": "execute_result",
          "data": {
            "text/plain": [
              "             State      Loss  Accuracy  F1 Score\n",
              "0          glasses  0.062677  0.985304  0.982637\n",
              "1        noglasses  0.061540  0.986756  0.984710\n",
              "2  night_noglasses  0.046055  0.990573  0.989094\n",
              "3       sunglasses  0.039654  0.991900  0.990681\n",
              "4     nightglasses  0.048108  0.990197  0.988400"
            ],
            "text/html": [
              "\n",
              "  <div id=\"df-60569dba-4dc3-4729-b1ee-16a340a640a3\">\n",
              "    <div class=\"colab-df-container\">\n",
              "      <div>\n",
              "<style scoped>\n",
              "    .dataframe tbody tr th:only-of-type {\n",
              "        vertical-align: middle;\n",
              "    }\n",
              "\n",
              "    .dataframe tbody tr th {\n",
              "        vertical-align: top;\n",
              "    }\n",
              "\n",
              "    .dataframe thead th {\n",
              "        text-align: right;\n",
              "    }\n",
              "</style>\n",
              "<table border=\"1\" class=\"dataframe\">\n",
              "  <thead>\n",
              "    <tr style=\"text-align: right;\">\n",
              "      <th></th>\n",
              "      <th>State</th>\n",
              "      <th>Loss</th>\n",
              "      <th>Accuracy</th>\n",
              "      <th>F1 Score</th>\n",
              "    </tr>\n",
              "  </thead>\n",
              "  <tbody>\n",
              "    <tr>\n",
              "      <th>0</th>\n",
              "      <td>glasses</td>\n",
              "      <td>0.062677</td>\n",
              "      <td>0.985304</td>\n",
              "      <td>0.982637</td>\n",
              "    </tr>\n",
              "    <tr>\n",
              "      <th>1</th>\n",
              "      <td>noglasses</td>\n",
              "      <td>0.061540</td>\n",
              "      <td>0.986756</td>\n",
              "      <td>0.984710</td>\n",
              "    </tr>\n",
              "    <tr>\n",
              "      <th>2</th>\n",
              "      <td>night_noglasses</td>\n",
              "      <td>0.046055</td>\n",
              "      <td>0.990573</td>\n",
              "      <td>0.989094</td>\n",
              "    </tr>\n",
              "    <tr>\n",
              "      <th>3</th>\n",
              "      <td>sunglasses</td>\n",
              "      <td>0.039654</td>\n",
              "      <td>0.991900</td>\n",
              "      <td>0.990681</td>\n",
              "    </tr>\n",
              "    <tr>\n",
              "      <th>4</th>\n",
              "      <td>nightglasses</td>\n",
              "      <td>0.048108</td>\n",
              "      <td>0.990197</td>\n",
              "      <td>0.988400</td>\n",
              "    </tr>\n",
              "  </tbody>\n",
              "</table>\n",
              "</div>\n",
              "      <button class=\"colab-df-convert\" onclick=\"convertToInteractive('df-60569dba-4dc3-4729-b1ee-16a340a640a3')\"\n",
              "              title=\"Convert this dataframe to an interactive table.\"\n",
              "              style=\"display:none;\">\n",
              "        \n",
              "  <svg xmlns=\"http://www.w3.org/2000/svg\" height=\"24px\"viewBox=\"0 0 24 24\"\n",
              "       width=\"24px\">\n",
              "    <path d=\"M0 0h24v24H0V0z\" fill=\"none\"/>\n",
              "    <path d=\"M18.56 5.44l.94 2.06.94-2.06 2.06-.94-2.06-.94-.94-2.06-.94 2.06-2.06.94zm-11 1L8.5 8.5l.94-2.06 2.06-.94-2.06-.94L8.5 2.5l-.94 2.06-2.06.94zm10 10l.94 2.06.94-2.06 2.06-.94-2.06-.94-.94-2.06-.94 2.06-2.06.94z\"/><path d=\"M17.41 7.96l-1.37-1.37c-.4-.4-.92-.59-1.43-.59-.52 0-1.04.2-1.43.59L10.3 9.45l-7.72 7.72c-.78.78-.78 2.05 0 2.83L4 21.41c.39.39.9.59 1.41.59.51 0 1.02-.2 1.41-.59l7.78-7.78 2.81-2.81c.8-.78.8-2.07 0-2.86zM5.41 20L4 18.59l7.72-7.72 1.47 1.35L5.41 20z\"/>\n",
              "  </svg>\n",
              "      </button>\n",
              "      \n",
              "  <style>\n",
              "    .colab-df-container {\n",
              "      display:flex;\n",
              "      flex-wrap:wrap;\n",
              "      gap: 12px;\n",
              "    }\n",
              "\n",
              "    .colab-df-convert {\n",
              "      background-color: #E8F0FE;\n",
              "      border: none;\n",
              "      border-radius: 50%;\n",
              "      cursor: pointer;\n",
              "      display: none;\n",
              "      fill: #1967D2;\n",
              "      height: 32px;\n",
              "      padding: 0 0 0 0;\n",
              "      width: 32px;\n",
              "    }\n",
              "\n",
              "    .colab-df-convert:hover {\n",
              "      background-color: #E2EBFA;\n",
              "      box-shadow: 0px 1px 2px rgba(60, 64, 67, 0.3), 0px 1px 3px 1px rgba(60, 64, 67, 0.15);\n",
              "      fill: #174EA6;\n",
              "    }\n",
              "\n",
              "    [theme=dark] .colab-df-convert {\n",
              "      background-color: #3B4455;\n",
              "      fill: #D2E3FC;\n",
              "    }\n",
              "\n",
              "    [theme=dark] .colab-df-convert:hover {\n",
              "      background-color: #434B5C;\n",
              "      box-shadow: 0px 1px 3px 1px rgba(0, 0, 0, 0.15);\n",
              "      filter: drop-shadow(0px 1px 2px rgba(0, 0, 0, 0.3));\n",
              "      fill: #FFFFFF;\n",
              "    }\n",
              "  </style>\n",
              "\n",
              "      <script>\n",
              "        const buttonEl =\n",
              "          document.querySelector('#df-60569dba-4dc3-4729-b1ee-16a340a640a3 button.colab-df-convert');\n",
              "        buttonEl.style.display =\n",
              "          google.colab.kernel.accessAllowed ? 'block' : 'none';\n",
              "\n",
              "        async function convertToInteractive(key) {\n",
              "          const element = document.querySelector('#df-60569dba-4dc3-4729-b1ee-16a340a640a3');\n",
              "          const dataTable =\n",
              "            await google.colab.kernel.invokeFunction('convertToInteractive',\n",
              "                                                     [key], {});\n",
              "          if (!dataTable) return;\n",
              "\n",
              "          const docLinkHtml = 'Like what you see? Visit the ' +\n",
              "            '<a target=\"_blank\" href=https://colab.research.google.com/notebooks/data_table.ipynb>data table notebook</a>'\n",
              "            + ' to learn more about interactive tables.';\n",
              "          element.innerHTML = '';\n",
              "          dataTable['output_type'] = 'display_data';\n",
              "          await google.colab.output.renderOutput(dataTable, element);\n",
              "          const docLink = document.createElement('div');\n",
              "          docLink.innerHTML = docLinkHtml;\n",
              "          element.appendChild(docLink);\n",
              "        }\n",
              "      </script>\n",
              "    </div>\n",
              "  </div>\n",
              "  "
            ]
          },
          "metadata": {},
          "execution_count": 37
        }
      ]
    },
    {
      "cell_type": "markdown",
      "source": [
        "**Model V2 70_30 Evaluation and Results**"
      ],
      "metadata": {
        "id": "uC8orURpDFb7"
      }
    },
    {
      "cell_type": "code",
      "source": [
        "from tensorflow import keras\n",
        "model = keras.models.load_model(\"/content/drive/MyDrive/Dataset/models/drowsiness_detection_v2_70_30\", custom_objects={'f1_score': f1_score})\n",
        "import pandas as pd\n",
        "\n",
        "states_test = [['glasses', glasses_test], ['noglasses', noglasses_test], ['night_noglasses', night_noglasses_test], ['sunglasses', sunglasses_test], ['nightglasses', nightglasses_test]]\n",
        "\n",
        "\n",
        "def evaluate(model, test, state):\n",
        "  data = dataframe_to_tensor(test).batch(25)\n",
        "\n",
        "  score = model.evaluate(data, verbose=1)\n",
        "\n",
        "  print(score)\n",
        "\n",
        "  return {\n",
        "      \"State\": state,\n",
        "      \"Loss\": score[0],\n",
        "      \"Accuracy\": score[1],\n",
        "      \"F1 Score\": score[2]\n",
        "  }\n",
        "\n",
        "results = [ evaluate(model, x[1], x[0]) for x in states_test ]\n",
        "\n",
        "result_df = pd.DataFrame(results)\n",
        "\n",
        "result_df.to_csv(\"/content/drive/MyDrive/Dataset/results/drowsiness_detection_v2_70_30_result.csv\")\n",
        "\n",
        "result_df\n"
      ],
      "metadata": {
        "id": "_5QFl8EiPeWO",
        "colab": {
          "base_uri": "https://localhost:8080/",
          "height": 474
        },
        "outputId": "26082d53-1fc1-4baa-ac98-9af01056f14c"
      },
      "execution_count": null,
      "outputs": [
        {
          "output_type": "stream",
          "name": "stdout",
          "text": [
            "(5345, 20)\n",
            "214/214 [==============================] - 4s 14ms/step - loss: 0.0625 - acc: 0.9852 - f1_score: 0.9826\n",
            "[0.062492407858371735, 0.9852479696273804, 0.9825656414031982]\n",
            "(5312, 20)\n",
            "213/213 [==============================] - 2s 9ms/step - loss: 0.0606 - acc: 0.9869 - f1_score: 0.9849\n",
            "[0.06058235466480255, 0.9868785738945007, 0.9848524928092957]\n",
            "(2620, 20)\n",
            "105/105 [==============================] - 1s 9ms/step - loss: 0.0457 - acc: 0.9905 - f1_score: 0.9891\n",
            "[0.04565388336777687, 0.9905344247817993, 0.9890624284744263]\n",
            "(5401, 20)\n",
            "217/217 [==============================] - 2s 9ms/step - loss: 0.0387 - acc: 0.9920 - f1_score: 0.9908\n",
            "[0.038748085498809814, 0.9920294880867004, 0.9908333420753479]\n",
            "(2484, 20)\n",
            "100/100 [==============================] - 1s 9ms/step - loss: 0.0478 - acc: 0.9902 - f1_score: 0.9884\n",
            "[0.04782278835773468, 0.9902374148368835, 0.9884455800056458]\n"
          ]
        },
        {
          "output_type": "execute_result",
          "data": {
            "text/plain": [
              "             State      Loss  Accuracy  F1 Score\n",
              "0          glasses  0.062492  0.985248  0.982566\n",
              "1        noglasses  0.060582  0.986879  0.984852\n",
              "2  night_noglasses  0.045654  0.990534  0.989062\n",
              "3       sunglasses  0.038748  0.992029  0.990833\n",
              "4     nightglasses  0.047823  0.990237  0.988446"
            ],
            "text/html": [
              "\n",
              "  <div id=\"df-7ca6bed0-3504-4909-a691-69994d19c361\">\n",
              "    <div class=\"colab-df-container\">\n",
              "      <div>\n",
              "<style scoped>\n",
              "    .dataframe tbody tr th:only-of-type {\n",
              "        vertical-align: middle;\n",
              "    }\n",
              "\n",
              "    .dataframe tbody tr th {\n",
              "        vertical-align: top;\n",
              "    }\n",
              "\n",
              "    .dataframe thead th {\n",
              "        text-align: right;\n",
              "    }\n",
              "</style>\n",
              "<table border=\"1\" class=\"dataframe\">\n",
              "  <thead>\n",
              "    <tr style=\"text-align: right;\">\n",
              "      <th></th>\n",
              "      <th>State</th>\n",
              "      <th>Loss</th>\n",
              "      <th>Accuracy</th>\n",
              "      <th>F1 Score</th>\n",
              "    </tr>\n",
              "  </thead>\n",
              "  <tbody>\n",
              "    <tr>\n",
              "      <th>0</th>\n",
              "      <td>glasses</td>\n",
              "      <td>0.062492</td>\n",
              "      <td>0.985248</td>\n",
              "      <td>0.982566</td>\n",
              "    </tr>\n",
              "    <tr>\n",
              "      <th>1</th>\n",
              "      <td>noglasses</td>\n",
              "      <td>0.060582</td>\n",
              "      <td>0.986879</td>\n",
              "      <td>0.984852</td>\n",
              "    </tr>\n",
              "    <tr>\n",
              "      <th>2</th>\n",
              "      <td>night_noglasses</td>\n",
              "      <td>0.045654</td>\n",
              "      <td>0.990534</td>\n",
              "      <td>0.989062</td>\n",
              "    </tr>\n",
              "    <tr>\n",
              "      <th>3</th>\n",
              "      <td>sunglasses</td>\n",
              "      <td>0.038748</td>\n",
              "      <td>0.992029</td>\n",
              "      <td>0.990833</td>\n",
              "    </tr>\n",
              "    <tr>\n",
              "      <th>4</th>\n",
              "      <td>nightglasses</td>\n",
              "      <td>0.047823</td>\n",
              "      <td>0.990237</td>\n",
              "      <td>0.988446</td>\n",
              "    </tr>\n",
              "  </tbody>\n",
              "</table>\n",
              "</div>\n",
              "      <button class=\"colab-df-convert\" onclick=\"convertToInteractive('df-7ca6bed0-3504-4909-a691-69994d19c361')\"\n",
              "              title=\"Convert this dataframe to an interactive table.\"\n",
              "              style=\"display:none;\">\n",
              "        \n",
              "  <svg xmlns=\"http://www.w3.org/2000/svg\" height=\"24px\"viewBox=\"0 0 24 24\"\n",
              "       width=\"24px\">\n",
              "    <path d=\"M0 0h24v24H0V0z\" fill=\"none\"/>\n",
              "    <path d=\"M18.56 5.44l.94 2.06.94-2.06 2.06-.94-2.06-.94-.94-2.06-.94 2.06-2.06.94zm-11 1L8.5 8.5l.94-2.06 2.06-.94-2.06-.94L8.5 2.5l-.94 2.06-2.06.94zm10 10l.94 2.06.94-2.06 2.06-.94-2.06-.94-.94-2.06-.94 2.06-2.06.94z\"/><path d=\"M17.41 7.96l-1.37-1.37c-.4-.4-.92-.59-1.43-.59-.52 0-1.04.2-1.43.59L10.3 9.45l-7.72 7.72c-.78.78-.78 2.05 0 2.83L4 21.41c.39.39.9.59 1.41.59.51 0 1.02-.2 1.41-.59l7.78-7.78 2.81-2.81c.8-.78.8-2.07 0-2.86zM5.41 20L4 18.59l7.72-7.72 1.47 1.35L5.41 20z\"/>\n",
              "  </svg>\n",
              "      </button>\n",
              "      \n",
              "  <style>\n",
              "    .colab-df-container {\n",
              "      display:flex;\n",
              "      flex-wrap:wrap;\n",
              "      gap: 12px;\n",
              "    }\n",
              "\n",
              "    .colab-df-convert {\n",
              "      background-color: #E8F0FE;\n",
              "      border: none;\n",
              "      border-radius: 50%;\n",
              "      cursor: pointer;\n",
              "      display: none;\n",
              "      fill: #1967D2;\n",
              "      height: 32px;\n",
              "      padding: 0 0 0 0;\n",
              "      width: 32px;\n",
              "    }\n",
              "\n",
              "    .colab-df-convert:hover {\n",
              "      background-color: #E2EBFA;\n",
              "      box-shadow: 0px 1px 2px rgba(60, 64, 67, 0.3), 0px 1px 3px 1px rgba(60, 64, 67, 0.15);\n",
              "      fill: #174EA6;\n",
              "    }\n",
              "\n",
              "    [theme=dark] .colab-df-convert {\n",
              "      background-color: #3B4455;\n",
              "      fill: #D2E3FC;\n",
              "    }\n",
              "\n",
              "    [theme=dark] .colab-df-convert:hover {\n",
              "      background-color: #434B5C;\n",
              "      box-shadow: 0px 1px 3px 1px rgba(0, 0, 0, 0.15);\n",
              "      filter: drop-shadow(0px 1px 2px rgba(0, 0, 0, 0.3));\n",
              "      fill: #FFFFFF;\n",
              "    }\n",
              "  </style>\n",
              "\n",
              "      <script>\n",
              "        const buttonEl =\n",
              "          document.querySelector('#df-7ca6bed0-3504-4909-a691-69994d19c361 button.colab-df-convert');\n",
              "        buttonEl.style.display =\n",
              "          google.colab.kernel.accessAllowed ? 'block' : 'none';\n",
              "\n",
              "        async function convertToInteractive(key) {\n",
              "          const element = document.querySelector('#df-7ca6bed0-3504-4909-a691-69994d19c361');\n",
              "          const dataTable =\n",
              "            await google.colab.kernel.invokeFunction('convertToInteractive',\n",
              "                                                     [key], {});\n",
              "          if (!dataTable) return;\n",
              "\n",
              "          const docLinkHtml = 'Like what you see? Visit the ' +\n",
              "            '<a target=\"_blank\" href=https://colab.research.google.com/notebooks/data_table.ipynb>data table notebook</a>'\n",
              "            + ' to learn more about interactive tables.';\n",
              "          element.innerHTML = '';\n",
              "          dataTable['output_type'] = 'display_data';\n",
              "          await google.colab.output.renderOutput(dataTable, element);\n",
              "          const docLink = document.createElement('div');\n",
              "          docLink.innerHTML = docLinkHtml;\n",
              "          element.appendChild(docLink);\n",
              "        }\n",
              "      </script>\n",
              "    </div>\n",
              "  </div>\n",
              "  "
            ]
          },
          "metadata": {},
          "execution_count": 38
        }
      ]
    }
  ],
  "metadata": {
    "colab": {
      "provenance": [],
      "include_colab_link": true
    },
    "kernelspec": {
      "display_name": "Python 3",
      "name": "python3"
    },
    "language_info": {
      "name": "python"
    }
  },
  "nbformat": 4,
  "nbformat_minor": 0
}